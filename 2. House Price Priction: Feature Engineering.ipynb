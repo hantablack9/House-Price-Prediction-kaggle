{
 "cells": [
  {
   "cell_type": "markdown",
   "id": "a0261c4b",
   "metadata": {
    "papermill": {
     "duration": 0.002584,
     "end_time": "2023-04-28T06:33:08.357747",
     "exception": false,
     "start_time": "2023-04-28T06:33:08.355163",
     "status": "completed"
    },
    "tags": []
   },
   "source": [
    "# Advanced Housing Prices\n",
    "\n",
    "The Ames Housing dataset was compiled by Dean De Cock for use in data science education. It's an incredible alternative for data scientists looking for a modernized and expanded version of the often cited Boston Housing dataset.\n",
    "\n",
    "The dataset and documentation can be found in this [link](https://www.kaggle.com/code/gusthema/house-prices-prediction-using-tfdf).\n",
    "\n",
    "The broad aims of this Machine Learning Project are to understand the dataset and to build a ML pripeline that can predict SalePrice of Houses using various techniques"
   ]
  },
  {
   "cell_type": "markdown",
   "id": "0cdb0bf7",
   "metadata": {
    "papermill": {
     "duration": 0.00125,
     "end_time": "2023-04-28T06:33:08.360690",
     "exception": false,
     "start_time": "2023-04-28T06:33:08.359440",
     "status": "completed"
    },
    "tags": []
   },
   "source": [
    "Preceding steps of this data pipeline are in different notebooks and can be accessed from this github [repo.](https://github.com/hantablack9/House-Price-Prediction-kaggle/tree/main)\n",
    "\n",
    "**We will perform feature engineering in this notebook.**"
   ]
  }
 ],
 "metadata": {
  "kernelspec": {
   "display_name": "Python 3",
   "language": "python",
   "name": "python3"
  },
  "language_info": {
   "codemirror_mode": {
    "name": "ipython",
    "version": 3
   },
   "file_extension": ".py",
   "mimetype": "text/x-python",
   "name": "python",
   "nbconvert_exporter": "python",
   "pygments_lexer": "ipython3",
   "version": "3.7.12"
  },
  "papermill": {
   "default_parameters": {},
   "duration": 11.090629,
   "end_time": "2023-04-28T06:33:09.086686",
   "environment_variables": {},
   "exception": null,
   "input_path": "__notebook__.ipynb",
   "output_path": "__notebook__.ipynb",
   "parameters": {},
   "start_time": "2023-04-28T06:32:57.996057",
   "version": "2.4.0"
  }
 },
 "nbformat": 4,
 "nbformat_minor": 5
}
